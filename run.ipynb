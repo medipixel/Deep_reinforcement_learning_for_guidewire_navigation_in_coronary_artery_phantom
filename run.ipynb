{
 "metadata": {
  "language_info": {
   "codemirror_mode": {
    "name": "ipython",
    "version": 3
   },
   "file_extension": ".py",
   "mimetype": "text/x-python",
   "name": "python",
   "nbconvert_exporter": "python",
   "pygments_lexer": "ipython3",
   "version": 3
  },
  "orig_nbformat": 2
 },
 "nbformat": 4,
 "nbformat_minor": 2,
 "cells": [
  {
   "cell_type": "code",
   "execution_count": null,
   "metadata": {},
   "outputs": [],
   "source": [
    "import datetime\n",
    "\n",
    "import gym\n",
    "\n",
    "from rl_algorithms import build_agent\n",
    "from rl_algorithms.common import helper_functions as common_utils\n",
    "from rl_algorithms.utils import Config\n",
    "from rl_algorithms.common.env.atari_wrappers import FrameStack, ImageToPyTorch\n",
    "\n",
    "from env import PhantomDummyEnv"
   ]
  }
 ]
}